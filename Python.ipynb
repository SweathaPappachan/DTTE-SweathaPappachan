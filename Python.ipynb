{
  "nbformat": 4,
  "nbformat_minor": 0,
  "metadata": {
    "colab": {
      "provenance": [],
      "authorship_tag": "ABX9TyMW47ys1EPHAs9AG0qkUo2T",
      "include_colab_link": true
    },
    "kernelspec": {
      "name": "python3",
      "display_name": "Python 3"
    },
    "language_info": {
      "name": "python"
    }
  },
  "cells": [
    {
      "cell_type": "markdown",
      "metadata": {
        "id": "view-in-github",
        "colab_type": "text"
      },
      "source": [
        "<a href=\"https://colab.research.google.com/github/SweathaPappachan/FMML/blob/main/Python.ipynb\" target=\"_parent\"><img src=\"https://colab.research.google.com/assets/colab-badge.svg\" alt=\"Open In Colab\"/></a>"
      ]
    },
    {
      "cell_type": "code",
      "execution_count": 1,
      "metadata": {
        "colab": {
          "base_uri": "https://localhost:8080/"
        },
        "id": "gvJpNlDdloeS",
        "outputId": "5bb7f400-110a-42c8-de1d-cf8b739b29b9"
      },
      "outputs": [
        {
          "output_type": "stream",
          "name": "stdout",
          "text": [
            "I love python\n",
            "Its fun and easy\n"
          ]
        }
      ],
      "source": [
        "print(\"I love python\")\n",
        "print(\"Its fun and easy\")\n"
      ]
    },
    {
      "cell_type": "markdown",
      "source": [
        "Variable\n"
      ],
      "metadata": {
        "id": "xqsYmkXqoB6g"
      }
    },
    {
      "cell_type": "code",
      "source": [
        "name='Sweatha'\n",
        "print(\"Hello \"+name)\n",
        "print(type(name))"
      ],
      "metadata": {
        "colab": {
          "base_uri": "https://localhost:8080/"
        },
        "id": "rXPFs7XaoJt9",
        "outputId": "b55491da-286d-44e0-d09c-69446e981f72"
      },
      "execution_count": 8,
      "outputs": [
        {
          "output_type": "stream",
          "name": "stdout",
          "text": [
            "Hello Sweatha\n",
            "<class 'str'>\n"
          ]
        }
      ]
    },
    {
      "cell_type": "code",
      "source": [
        "first_name='Sweatha'\n",
        "last_name='Pappachan'\n",
        "full_name=first_name +\" \"+ last_name\n",
        "print(\"Hello \"+ full_name)\n",
        "print(type(name))"
      ],
      "metadata": {
        "colab": {
          "base_uri": "https://localhost:8080/"
        },
        "id": "99VR-rLQpKzk",
        "outputId": "ab4f16f3-8cc1-45a9-c4d8-734b84f49daa"
      },
      "execution_count": 13,
      "outputs": [
        {
          "output_type": "stream",
          "name": "stdout",
          "text": [
            "Hello Sweatha Pappachan\n",
            "<class 'str'>\n"
          ]
        }
      ]
    },
    {
      "cell_type": "code",
      "source": [
        "age = 23\n",
        "age =age + 1\n",
        "print(age)"
      ],
      "metadata": {
        "colab": {
          "base_uri": "https://localhost:8080/"
        },
        "id": "cumVpJEJqTQv",
        "outputId": "f8cc7116-85f5-48eb-d82f-03037f73ae5e"
      },
      "execution_count": 15,
      "outputs": [
        {
          "output_type": "stream",
          "name": "stdout",
          "text": [
            "24\n"
          ]
        }
      ]
    },
    {
      "cell_type": "code",
      "source": [
        "age = 23\n",
        "age += 1\n",
        "print(age)\n",
        "print(type(age))"
      ],
      "metadata": {
        "colab": {
          "base_uri": "https://localhost:8080/"
        },
        "id": "tlsh-wlGqtw8",
        "outputId": "98c4e46f-4e80-4fca-dca0-6f534b895c35"
      },
      "execution_count": 18,
      "outputs": [
        {
          "output_type": "stream",
          "name": "stdout",
          "text": [
            "24\n",
            "<class 'int'>\n"
          ]
        }
      ]
    },
    {
      "cell_type": "code",
      "source": [
        "age = \"23\"\n",
        "age += 1\n",
        "#print(age)\n",
        "print(type(age))"
      ],
      "metadata": {
        "colab": {
          "base_uri": "https://localhost:8080/",
          "height": 227
        },
        "id": "H-4g1n-_rTT5",
        "outputId": "9ab7edba-af6a-446f-aaf3-148794c485fe"
      },
      "execution_count": 20,
      "outputs": [
        {
          "output_type": "error",
          "ename": "TypeError",
          "evalue": "ignored",
          "traceback": [
            "\u001b[0;31m---------------------------------------------------------------------------\u001b[0m",
            "\u001b[0;31mTypeError\u001b[0m                                 Traceback (most recent call last)",
            "\u001b[0;32m<ipython-input-20-12ca68a8f954>\u001b[0m in \u001b[0;36m<cell line: 2>\u001b[0;34m()\u001b[0m\n\u001b[1;32m      1\u001b[0m \u001b[0mage\u001b[0m \u001b[0;34m=\u001b[0m \u001b[0;34m\"23\"\u001b[0m\u001b[0;34m\u001b[0m\u001b[0;34m\u001b[0m\u001b[0m\n\u001b[0;32m----> 2\u001b[0;31m \u001b[0mage\u001b[0m \u001b[0;34m+=\u001b[0m \u001b[0;36m1\u001b[0m\u001b[0;34m\u001b[0m\u001b[0;34m\u001b[0m\u001b[0m\n\u001b[0m\u001b[1;32m      3\u001b[0m \u001b[0;31m#print(age)\u001b[0m\u001b[0;34m\u001b[0m\u001b[0;34m\u001b[0m\u001b[0m\n\u001b[1;32m      4\u001b[0m \u001b[0mprint\u001b[0m\u001b[0;34m(\u001b[0m\u001b[0mtype\u001b[0m\u001b[0;34m(\u001b[0m\u001b[0mage\u001b[0m\u001b[0;34m)\u001b[0m\u001b[0;34m)\u001b[0m\u001b[0;34m\u001b[0m\u001b[0;34m\u001b[0m\u001b[0m\n",
            "\u001b[0;31mTypeError\u001b[0m: can only concatenate str (not \"int\") to str"
          ]
        }
      ]
    },
    {
      "cell_type": "code",
      "source": [
        "age = 23\n",
        "age += 1\n",
        "print(\"My age is:\" +\" \"+str(age))\n",
        "print(type(age))"
      ],
      "metadata": {
        "colab": {
          "base_uri": "https://localhost:8080/"
        },
        "id": "eZ_QL4Sgr34c",
        "outputId": "bfaba1ee-4571-4721-c07b-d466531f1334"
      },
      "execution_count": 27,
      "outputs": [
        {
          "output_type": "stream",
          "name": "stdout",
          "text": [
            "My age is: 24\n",
            "<class 'int'>\n"
          ]
        }
      ]
    },
    {
      "cell_type": "markdown",
      "source": [
        "float data type = a decimal number"
      ],
      "metadata": {
        "id": "hxJ5Tkj1so0a"
      }
    },
    {
      "cell_type": "code",
      "source": [
        "height = 153.7\n",
        "print(height)\n",
        "print(type(height))"
      ],
      "metadata": {
        "colab": {
          "base_uri": "https://localhost:8080/"
        },
        "id": "FUqI_Rjkstxj",
        "outputId": "03920070-7505-4a8a-dc69-629570898668"
      },
      "execution_count": 28,
      "outputs": [
        {
          "output_type": "stream",
          "name": "stdout",
          "text": [
            "153.7\n",
            "<class 'float'>\n"
          ]
        }
      ]
    },
    {
      "cell_type": "code",
      "source": [
        "height = 153.7\n",
        "print(\"My height is:\" +\" \"+str(height)+ \"cm\")\n",
        "print(type(height))"
      ],
      "metadata": {
        "colab": {
          "base_uri": "https://localhost:8080/"
        },
        "id": "AhCW7H0ds9HV",
        "outputId": "0855f24a-1830-49cd-d9a9-3192bd4dad1b"
      },
      "execution_count": 30,
      "outputs": [
        {
          "output_type": "stream",
          "name": "stdout",
          "text": [
            "My height is: 153.7cm\n",
            "<class 'float'>\n"
          ]
        }
      ]
    },
    {
      "cell_type": "markdown",
      "source": [
        "Boolean = True or False"
      ],
      "metadata": {
        "id": "k3Df5Qboyw5D"
      }
    },
    {
      "cell_type": "code",
      "source": [
        "human = False\n",
        "print(human)\n",
        "print(type(human))"
      ],
      "metadata": {
        "colab": {
          "base_uri": "https://localhost:8080/"
        },
        "id": "sCQgb9f9xJTh",
        "outputId": "e19a2a9b-5d1a-4ad8-e7e8-2999148a1c0f"
      },
      "execution_count": 31,
      "outputs": [
        {
          "output_type": "stream",
          "name": "stdout",
          "text": [
            "False\n",
            "<class 'bool'>\n"
          ]
        }
      ]
    },
    {
      "cell_type": "code",
      "source": [
        "human = False\n",
        "print(\"Are you a human:\"+\" \" +str(human))\n",
        "print(type(human))"
      ],
      "metadata": {
        "colab": {
          "base_uri": "https://localhost:8080/"
        },
        "id": "hdL0BqZr12qx",
        "outputId": "266447bd-d240-4bd9-a2a3-44d3f0b18f39"
      },
      "execution_count": 33,
      "outputs": [
        {
          "output_type": "stream",
          "name": "stdout",
          "text": [
            "are you a human False\n",
            "<class 'bool'>\n"
          ]
        }
      ]
    },
    {
      "cell_type": "markdown",
      "source": [
        "Multiple Assignment\n"
      ],
      "metadata": {
        "id": "0ggi1GQV4cKq"
      }
    },
    {
      "cell_type": "code",
      "source": [
        "name = \"Sweatha\"\n",
        "age = 23\n",
        "attractive = True\n",
        "print(name)\n",
        "print(age)\n",
        "print(attractive)"
      ],
      "metadata": {
        "colab": {
          "base_uri": "https://localhost:8080/"
        },
        "id": "4T2bFNdY4jc-",
        "outputId": "f7753e51-1fb7-4542-fd0e-0830a0a1d18a"
      },
      "execution_count": 34,
      "outputs": [
        {
          "output_type": "stream",
          "name": "stdout",
          "text": [
            "Sweatha\n",
            "23\n",
            "True\n"
          ]
        }
      ]
    }
  ]
}